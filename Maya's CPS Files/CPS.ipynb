{
 "cells": [
  {
   "cell_type": "code",
   "execution_count": 65,
   "id": "40c9d5de-337b-42d5-8476-b61dff6ee666",
   "metadata": {},
   "outputs": [],
   "source": [
    "import pandas as pd\n",
    "import os\n",
    "import matplotlib.pyplot as plt"
   ]
  },
  {
   "cell_type": "code",
   "execution_count": 67,
   "id": "58e44501-436b-4b6e-8f60-c0c7dee39eed",
   "metadata": {},
   "outputs": [],
   "source": [
    "# Load csv file\n",
    "data = pd.read_csv('CPSData.csv')"
   ]
  },
  {
   "cell_type": "code",
   "execution_count": 68,
   "id": "d1a011cf-476c-40b3-bfe8-0bd1646a06cf",
   "metadata": {},
   "outputs": [],
   "source": [
    "# print(data.columns)"
   ]
  },
  {
   "cell_type": "code",
   "execution_count": 71,
   "id": "92f39233-2e4d-494a-a413-35719cf8fd76",
   "metadata": {},
   "outputs": [],
   "source": [
    "# Remove MetroAreaCode column\n",
    "data = data.drop(columns=['MetroAreaCode'])"
   ]
  },
  {
   "cell_type": "code",
   "execution_count": 73,
   "id": "3977e172-e4b1-4e79-a36e-d59154b67349",
   "metadata": {},
   "outputs": [
    {
     "name": "stdout",
     "output_type": "stream",
     "text": [
      "Index(['PeopleInHousehold', 'Region', 'State', 'Age', 'Married', 'Sex',\n",
      "       'Education', 'Race', 'Hispanic', 'CountryOfBirthCode', 'Citizenship',\n",
      "       'EmploymentStatus', 'Industry'],\n",
      "      dtype='object')\n"
     ]
    }
   ],
   "source": [
    "#Check to see MetroAreaCode column is removed\n",
    "print(data.columns)"
   ]
  },
  {
   "cell_type": "code",
   "execution_count": 75,
   "id": "eefe7607-4003-43ce-b944-bfef8d5eb780",
   "metadata": {},
   "outputs": [],
   "source": [
    "# Remove the rows where age is less\n",
    "data = data[data['Age'] >= 16]"
   ]
  },
  {
   "cell_type": "code",
   "execution_count": null,
   "id": "8f5d3d34-70ee-450a-8cbd-d4911dd56932",
   "metadata": {},
   "outputs": [],
   "source": []
  }
 ],
 "metadata": {
  "kernelspec": {
   "display_name": "Python 3 (ipykernel)",
   "language": "python",
   "name": "python3"
  },
  "language_info": {
   "codemirror_mode": {
    "name": "ipython",
    "version": 3
   },
   "file_extension": ".py",
   "mimetype": "text/x-python",
   "name": "python",
   "nbconvert_exporter": "python",
   "pygments_lexer": "ipython3",
   "version": "3.12.7"
  }
 },
 "nbformat": 4,
 "nbformat_minor": 5
}
